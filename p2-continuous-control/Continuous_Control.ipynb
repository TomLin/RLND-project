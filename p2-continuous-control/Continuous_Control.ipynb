{
 "cells": [
  {
   "cell_type": "markdown",
   "metadata": {},
   "source": [
    "# Continuous Control\n",
    "\n",
    "---\n",
    "\n",
    "In this notebook, you will learn how to use the Unity ML-Agents environment for the second project of the [Deep Reinforcement Learning Nanodegree](https://www.udacity.com/course/deep-reinforcement-learning-nanodegree--nd893) program.\n",
    "\n",
    "### 1. Start the Environment\n",
    "\n",
    "We begin by importing the necessary packages.  If the code cell below returns an error, please revisit the project instructions to double-check that you have installed [Unity ML-Agents](https://github.com/Unity-Technologies/ml-agents/blob/master/docs/Installation.md) and [NumPy](http://www.numpy.org/)."
   ]
  },
  {
   "cell_type": "code",
   "execution_count": 1,
   "metadata": {},
   "outputs": [],
   "source": [
    "from unityagents import UnityEnvironment\n",
    "import numpy as np\n",
    "import math\n",
    "\n",
    "import torch\n",
    "import torch.nn as nn\n",
    "import torch.nn.functional as F \n",
    "import torch.optim as optim"
   ]
  },
  {
   "cell_type": "markdown",
   "metadata": {},
   "source": [
    "Next, we will start the environment!  **_Before running the code cell below_**, change the `file_name` parameter to match the location of the Unity environment that you downloaded.\n",
    "\n",
    "- **Mac**: `\"path/to/Reacher.app\"`\n",
    "- **Windows** (x86): `\"path/to/Reacher_Windows_x86/Reacher.exe\"`\n",
    "- **Windows** (x86_64): `\"path/to/Reacher_Windows_x86_64/Reacher.exe\"`\n",
    "- **Linux** (x86): `\"path/to/Reacher_Linux/Reacher.x86\"`\n",
    "- **Linux** (x86_64): `\"path/to/Reacher_Linux/Reacher.x86_64\"`\n",
    "- **Linux** (x86, headless): `\"path/to/Reacher_Linux_NoVis/Reacher.x86\"`\n",
    "- **Linux** (x86_64, headless): `\"path/to/Reacher_Linux_NoVis/Reacher.x86_64\"`\n",
    "\n",
    "For instance, if you are using a Mac, then you downloaded `Reacher.app`.  If this file is in the same folder as the notebook, then the line below should appear as follows:\n",
    "```\n",
    "env = UnityEnvironment(file_name=\"Reacher.app\")\n",
    "```"
   ]
  },
  {
   "cell_type": "code",
   "execution_count": 2,
   "metadata": {},
   "outputs": [
    {
     "name": "stderr",
     "output_type": "stream",
     "text": [
      "INFO:unityagents:\n",
      "'Academy' started successfully!\n",
      "Unity Academy name: Academy\n",
      "        Number of Brains: 1\n",
      "        Number of External Brains : 1\n",
      "        Lesson number : 0\n",
      "        Reset Parameters :\n",
      "\t\tgoal_speed -> 1.0\n",
      "\t\tgoal_size -> 5.0\n",
      "Unity brain name: ReacherBrain\n",
      "        Number of Visual Observations (per agent): 0\n",
      "        Vector Observation space type: continuous\n",
      "        Vector Observation space size (per agent): 33\n",
      "        Number of stacked Vector Observation: 1\n",
      "        Vector Action space type: continuous\n",
      "        Vector Action space size (per agent): 4\n",
      "        Vector Action descriptions: , , , \n"
     ]
    }
   ],
   "source": [
    "# single agent\n",
    "env_path = '/Users/tomlin/Documents/Github-Repository/RLND/RLND-dataset/p2-continuous-control/Reacher_single.app'\n",
    "env = UnityEnvironment(file_name=env_path)"
   ]
  },
  {
   "cell_type": "markdown",
   "metadata": {},
   "source": [
    "Environments contain **_brains_** which are responsible for deciding the actions of their associated agents. Here we check for the first brain available, and set it as the default brain we will be controlling from Python."
   ]
  },
  {
   "cell_type": "code",
   "execution_count": 3,
   "metadata": {},
   "outputs": [],
   "source": [
    "# get the default brain\n",
    "brain_name = env.brain_names[0]\n",
    "brain = env.brains[brain_name]"
   ]
  },
  {
   "cell_type": "markdown",
   "metadata": {},
   "source": [
    "### 2. Examine the State and Action Spaces\n",
    "\n",
    "In this environment, a double-jointed arm can move to target locations. A reward of `+0.1` is provided for each step that the agent's hand is in the goal location. Thus, the goal of your agent is to maintain its position at the target location for as many time steps as possible.\n",
    "\n",
    "The observation space consists of `33` variables corresponding to position, rotation, velocity, and angular velocities of the arm.  Each action is a vector with four numbers, corresponding to torque applicable to two joints.  Every entry in the action vector must be a number between `-1` and `1`.\n",
    "\n",
    "Run the code cell below to print some information about the environment."
   ]
  },
  {
   "cell_type": "code",
   "execution_count": 4,
   "metadata": {},
   "outputs": [
    {
     "name": "stdout",
     "output_type": "stream",
     "text": [
      "Number of agents: 1\n",
      "Size of each action: 4\n",
      "There are 1 agents. Each observes a state with length: 33\n",
      "The state for the first agent looks like: [ 0.00000000e+00 -4.00000000e+00  0.00000000e+00  1.00000000e+00\n",
      " -0.00000000e+00 -0.00000000e+00 -4.37113883e-08  0.00000000e+00\n",
      "  0.00000000e+00  0.00000000e+00  0.00000000e+00  0.00000000e+00\n",
      "  0.00000000e+00  0.00000000e+00 -1.00000000e+01  0.00000000e+00\n",
      "  1.00000000e+00 -0.00000000e+00 -0.00000000e+00 -4.37113883e-08\n",
      "  0.00000000e+00  0.00000000e+00  0.00000000e+00  0.00000000e+00\n",
      "  0.00000000e+00  0.00000000e+00  5.75471878e+00 -1.00000000e+00\n",
      "  5.55726671e+00  0.00000000e+00  1.00000000e+00  0.00000000e+00\n",
      " -1.68164849e-01]\n"
     ]
    }
   ],
   "source": [
    "# reset the environment\n",
    "env_info = env.reset(train_mode=True)[brain_name]\n",
    "\n",
    "# number of agents\n",
    "num_agents = len(env_info.agents)\n",
    "print('Number of agents:', num_agents)\n",
    "\n",
    "# size of each action\n",
    "action_size = brain.vector_action_space_size\n",
    "print('Size of each action:', action_size)\n",
    "\n",
    "# examine the state space \n",
    "states = env_info.vector_observations\n",
    "state_size = states.shape[1]\n",
    "print('There are {} agents. Each observes a state with length: {}'.format(states.shape[0], state_size))\n",
    "print('The state for the first agent looks like:', states[0])"
   ]
  },
  {
   "cell_type": "markdown",
   "metadata": {},
   "source": [
    "### 3. Take Random Actions in the Environment\n",
    "\n",
    "In the next code cell, you will learn how to use the Python API to control the agent and receive feedback from the environment.\n",
    "\n",
    "Once this cell is executed, you will watch the agent's performance, if it selects an action at random with each time step.  A window should pop up that allows you to observe the agent, as it moves through the environment.  \n",
    "\n",
    "Of course, as part of the project, you'll have to change the code so that the agent is able to use its experience to gradually choose better actions when interacting with the environment!"
   ]
  },
  {
   "cell_type": "code",
   "execution_count": 6,
   "metadata": {},
   "outputs": [
    {
     "name": "stdout",
     "output_type": "stream",
     "text": [
      "Total score (averaged over agents) this episode: 0.0\n"
     ]
    }
   ],
   "source": [
    "env_info = env.reset(train_mode=True)[brain_name]     # reset the environment    \n",
    "states = env_info.vector_observations                  # get the current state (for each agent)\n",
    "scores = np.zeros(num_agents)                          # initialize the score (for each agent)\n",
    "while True:\n",
    "    actions = np.random.randn(num_agents, action_size) # select an action (for each agent)\n",
    "    actions = np.clip(actions, -1, 1)                  # all actions between -1 and 1\n",
    "    env_info = env.step(actions)[brain_name]           # send all actions to tne environment\n",
    "    next_states = env_info.vector_observations         # get next state (for each agent)\n",
    "    rewards = env_info.rewards                         # get reward (for each agent)\n",
    "    dones = env_info.local_done                        # see if episode finished\n",
    "    scores += env_info.rewards                         # update the score (for each agent)\n",
    "    states = next_states                               # roll over states to next time step\n",
    "    if np.any(dones):                                  # exit loop if episode finished\n",
    "        break\n",
    "print('Total score (averaged over agents) this episode: {}'.format(np.mean(scores)))"
   ]
  },
  {
   "cell_type": "markdown",
   "metadata": {},
   "source": [
    "When finished, you can close the environment."
   ]
  },
  {
   "cell_type": "code",
   "execution_count": null,
   "metadata": {},
   "outputs": [],
   "source": [
    "env.close()"
   ]
  },
  {
   "cell_type": "markdown",
   "metadata": {},
   "source": [
    "### 4. It's Your Turn!\n",
    "\n",
    "Now it's your turn to train your own agent to solve the environment!  When training the environment, set `train_mode=True`, so that the line for resetting the environment looks like the following:\n",
    "```python\n",
    "env_info = env.reset(train_mode=True)[brain_name]\n",
    "```"
   ]
  },
  {
   "cell_type": "markdown",
   "metadata": {},
   "source": [
    "### 5. Experiment Procedures\n",
    "\n",
    "Here, following the requirements to solve learning task on single and multiple learning agents, I will experiment three different models, first the **Deep Deterministic Policy Gradient (DDPG)** and **Distributed Distributional Deterministic Policy Gradient (D4PG)** on the single agent, second the **Synchronous Advantage Actor Critic (A2C)** on the multiple agents.\n",
    "\n",
    "We know that when training based on single agent, the sequence of trasition experiences will be correlated, so that off-policy such as DDPG/D4PG will be more suitable in this case, the practice of sampling on replay memory breaking up the correlation between transitions. \n",
    "- In the training steps, I found out that DDPG seems not works out for the continuous action task, thus the following experiment on the new model D4PG. In the end it successfully solved the task, although it takes very long learing episodes.\n",
    "\n",
    "---\n",
    "\n",
    "While, on the other hand, in the case of training on multiple agents, for each own unique transition experience, the collective transitions will resolve the problem of correlation. Furthermore, we can leverage the training stability brough on by the on-policy learning algorithm.\n",
    "- In simplifying the model structure, I will use the batch operation on training multiple agents, instead of leveraing Python's multiprocessing module, which is the most common way of constructing A3C model in other authors' work."
   ]
  },
  {
   "cell_type": "markdown",
   "metadata": {},
   "source": [
    "### 6. Training on Single Agent"
   ]
  },
  {
   "cell_type": "markdown",
   "metadata": {},
   "source": [
    "#### 6.1 Import Self-defined modules\n",
    "\n",
    "1. **ddpg_agent**: Module file defining how an DDPG agent interact with the environment and implement training process.\n",
    "2. **ddpg_model**: Module file containing classes of Actor and Critic neural network structure for DDPG.\n",
    "3. **noise**: Ornstein-Uhlenbeck Noise process for exploration purpose in DDPG agent.\n",
    "4. **replay_memory**: Collect and uniformly random sample transition experience for training.\n",
    "5. **d4pg_agent**: Module file defining how an D4PG agent interact with the environment and implement training process.\n",
    "6. **d4pg_model**: Module file containing classes of Actor and Critic neural network structure for D4PG."
   ]
  },
  {
   "cell_type": "markdown",
   "metadata": {},
   "source": [
    "#### 6.2 DDPG"
   ]
  },
  {
   "cell_type": "markdown",
   "metadata": {},
   "source": [
    "##### Model Structure\n",
    "\n",
    "Most of the network's structure follows what being implemented in original [DDGP paper](https://arxiv.org/abs/1509.02971), and the major chunk of the script is referred from [Udacity's DDPG template](https://github.com/udacity/deep-reinforcement-learning/tree/master/ddpg-pendulum). The Ornstein-Uhlenbeck noise is added in action for action exploration. The critic network takes in the action in last hidden layer for computing Q value. Weights of both networks adopt Xaiver initialization and are soft-updated in training.\n",
    "\n",
    "---\n",
    "\n",
    "However, for training efficiency, some hyperparameters are adjusted in this case. Both actor and critic network contain two hidden layers (size of **128** and **64** units). The learning rate is $1e^{-4}$ for both networks. Last, the size of replay buffer is only 100,000 in order to lessen the computing pressure."
   ]
  },
  {
   "cell_type": "markdown",
   "metadata": {},
   "source": [
    "##### Specification of Loss Function\n",
    "\n",
    "The determinstic policy gradient is different from stochastic policy graident. It doesn't inlude the log probability of the action. In addition, it's proven the policy graident to be the gradient of the critic network w.r.t. the action, multiplied by the graident of the actor network w.r.t the network parameters. Read further detail in [this post](https://pemami4911.github.io/blog/2016/08/21/ddpg-rl.html). On the other hand, the critic value loss is just the regular TD error. Hence, the policy loss and critic value loss are defined as:\n",
    "\n",
    "$$\n",
    "\\begin{align}\n",
    "L_{policy} & = - \\frac{1}{M}\\sum_{i=1}^M Q(S_i, \\mu(S_i \\;\\vert\\; \\theta^\\mu) \\;\\big\\vert\\; \\theta^Q) \\\\\n",
    "L_{value} & = \\frac{1}{M}\\sum_{i=1}^M(R + \\gamma Q(S_{i+1}, \\mu^\\prime(S_{i+1} \\;\\vert\\; \\theta^{\\mu^\\prime}) \\;\\big\\vert\\; \\theta^{Q^\\prime})- Q(S_i, A_i \\;\\vert\\; \\theta^Q))^2\n",
    "\\end{align}\n",
    "$$"
   ]
  },
  {
   "cell_type": "markdown",
   "metadata": {},
   "source": [
    "##### Hyperparameters\n",
    "\n",
    "- Learning Rate (Actor/Critic): 1e-4\n",
    "- Weight Decay: 1e-2\n",
    "- Batch Size: 64\n",
    "- Buffer Size: 100000\n",
    "- Gamma: 0.99\n",
    "- Tau: 1e-3\n",
    "- Repeated Learning per time: 10\n",
    "- Learning Happened per timestep: 20\n",
    "- Max Gradient Clipped for Critic: 1\n",
    "- Hidden Layer 1 Size: 128\n",
    "- Hidden Layer 2 Size: 64"
   ]
  },
  {
   "cell_type": "markdown",
   "metadata": {},
   "source": [
    "#### 6.3 D4PG"
   ]
  },
  {
   "cell_type": "markdown",
   "metadata": {},
   "source": [
    "##### Model Structure\n",
    "\n",
    "As you will see later, the DDPG model doesn't solve the task successfully, so I turn to another algorithm [D4PG](https://arxiv.org/abs/1804.08617), which is the most updated RL algorithm in 2018. The code script is mainly referred from this book - [Deep-Reinforcement-Learning-Hands-On](https://github.com/PacktPublishing/Deep-Reinforcement-Learning-Hands-On). I follow up the same model structure as specified in DDPG, except for critic network, the output needs to be changed to N_ATOMS output. In addition, the D4PG can train on multiple transition trajectory(N-Steps), but I choose to train on one-step for its simplicity. However, according to other reviews, one-step training is the most unstable one and not recoomended, but I still go for it anyway. Two hidden layers are with size 128, 64 each. Buffer memory is with size 100000. Weights are soft-updated. One minor difference from DDPG is the action exploration. In D4PG it uses simple random noise from normal distribution instead of OU noise."
   ]
  },
  {
   "cell_type": "markdown",
   "metadata": {},
   "source": [
    "##### Hyperparameters\n",
    "\n",
    "- Learning Rate (Actor/Critic): 1e-4\n",
    "- Batch Size: 64\n",
    "- Buffer Size: 100000\n",
    "- Gamma: 0.99\n",
    "- Tau: 1e-3\n",
    "- Repeated Learning per time: 10\n",
    "- Learning Happened per timestep: 150\n",
    "- Max Gradient Clipped for Critic: 1\n",
    "- N-step: 1\n",
    "- N-Atoms: 51\n",
    "- Vmax: 10\n",
    "- Vmin: -10\n",
    "- Hidden Layer 1 Size: 128\n",
    "- Hidden Layer 2 Size: 64"
   ]
  },
  {
   "cell_type": "markdown",
   "metadata": {},
   "source": [
    "#### 6.4 Training"
   ]
  },
  {
   "cell_type": "markdown",
   "metadata": {},
   "source": [
    "##### Define Training Function"
   ]
  },
  {
   "cell_type": "code",
   "execution_count": 6,
   "metadata": {},
   "outputs": [],
   "source": [
    "import torch\n",
    "from collections import deque\n",
    "\n",
    "# train the agent\n",
    "def train_ddpg(agent, memory, n_episodes=10, mode='train', \n",
    "        actor_pth='./checkpoint/ddpg_actor_checkpoint.pth',\n",
    "        critic_pth='./checkpoint/ddpg_critic_checkpoint.pth'):\n",
    "    '''Set up training's configuration and print out episodic performance measures, such as avg scores, avg loss.\n",
    "    \n",
    "    Params\n",
    "    ======\n",
    "        agent (class object)\n",
    "        memory (class attribute): agent's attribute for memory size tracking\n",
    "        mode (string): 'train' or 'test', when in test mode, the agent acts in greedy policy only\n",
    "        pth (string path): file name for the checkpoint    \n",
    "    '''\n",
    "    \n",
    "    scores = []\n",
    "    scores_window = deque(maxlen=100)  # last 100 scores\n",
    "    c_loss_window = deque(maxlen=100)\n",
    "    a_loss_window = deque(maxlen=100)\n",
    "\n",
    "    for i_episode in range(1, n_episodes+1):\n",
    "        env_info = env.reset(train_mode=True)[brain_name]  # reset the environment and activate train_mode\n",
    "        state = env_info.vector_observations[0]            # get the current state\n",
    "        score = 0\n",
    "        agent.running_c_loss = 0\n",
    "        agent.running_a_loss = 0\n",
    "        agent.training_cnt = 0\n",
    "        # agent.reset() # reset OUNoise\n",
    "        \n",
    "        while True:\n",
    "            action = agent.act(state, mode)\n",
    "            env_info = env.step(action)[brain_name]        # send the action to the environment\n",
    "            next_state = env_info.vector_observations[0]      # get the next state\n",
    "            reward = env_info.rewards[0]                   # get the reward\n",
    "            done = env_info.local_done[0]                  # see if episode has finished        \n",
    "\n",
    "            agent.step(state, action, reward, next_state, done)\n",
    "\n",
    "            score += reward\n",
    "            state = next_state\n",
    "            if done:\n",
    "                break\n",
    "\n",
    "        scores_window.append(score)\n",
    "        scores.append(score)\n",
    "        c_loss_window.append(agent.running_c_loss/(agent.training_cnt+0.0001)) # avoid zero\n",
    "        a_loss_window.append(agent.running_a_loss/(agent.training_cnt+0.0001)) # avoid zero\n",
    "        print('\\rEpisode {:>4}\\tAverage Score:{:>6.3f}\\tMemory Size:{:>5}\\tCLoss:{:>12.8f}\\tALoss:{:>10.6f}'.format(\n",
    "            i_episode, np.mean(scores_window), len(memory), np.mean(c_loss_window), np.mean(a_loss_window)), end=\"\")\n",
    "        if i_episode % 100 == 0:\n",
    "            print('\\rEpisode {:>4}\\tAverage Score:{:>6.3f}\\tMemory Size:{:>5}\\tCLoss:{:>12.8f}\\tALoss:{:>10.6f}'.format(\n",
    "                i_episode, np.mean(scores_window), len(memory), np.mean(c_loss_window), np.mean(a_loss_window)))\n",
    "        if np.mean(scores_window) >= 31:\n",
    "            break\n",
    "    torch.save(agent.actor_local.state_dict(), actor_pth)\n",
    "    torch.save(agent.critic_local.state_dict(), critic_pth)\n",
    "    return scores"
   ]
  },
  {
   "cell_type": "markdown",
   "metadata": {},
   "source": [
    "##### Define Plot Function"
   ]
  },
  {
   "cell_type": "code",
   "execution_count": 5,
   "metadata": {},
   "outputs": [],
   "source": [
    "import matplotlib.pyplot as plt\n",
    "import pandas as pd\n",
    "%matplotlib inline\n",
    "\n",
    "def plot_scores(scores, rolling_window=100):\n",
    "    '''Plot score and its moving average on the same chart.'''\n",
    "    \n",
    "    fig = plt.figure(figsize=(10,5))\n",
    "    plt.plot(np.arange(len(scores)), scores, '-c', label='episode score')\n",
    "    plt.title('Episodic Score')\n",
    "    rolling_mean = pd.Series(scores).rolling(rolling_window).mean()\n",
    "    plt.plot(np.arange(len(scores)), rolling_mean, '-y', label='rolling_mean')\n",
    "    plt.ylabel('score')\n",
    "    plt.xlabel('episode #')\n",
    "    plt.legend()"
   ]
  },
  {
   "cell_type": "markdown",
   "metadata": {},
   "source": [
    "#### 6.5-1 Training: DDPG - Failed Attempt\n",
    "\n",
    "In this experiment, I set up the training happens at every 20 timesteps. Weight-update will iterate for 10 times in each training. Finally, the critic gradient is clipped with maximum value as 1 to enhance the training stability. As you will see below, the episodic reward lingers around 0.04 to 0.05 in the first 1000 episodes, which pretty means the agent not able to learn from these experiences at all."
   ]
  },
  {
   "cell_type": "code",
   "execution_count": 8,
   "metadata": {},
   "outputs": [
    {
     "name": "stdout",
     "output_type": "stream",
     "text": [
      "Episode  100\tAverage Score: 0.056\tMemory Size:100000\tCLoss:  0.00001030\tALoss: -0.078894\n",
      "Episode  200\tAverage Score: 0.063\tMemory Size:100000\tCLoss:  0.00000363\tALoss: -0.037848\n",
      "Episode  300\tAverage Score: 0.061\tMemory Size:100000\tCLoss:  0.00000263\tALoss: -0.019174\n",
      "Episode  400\tAverage Score: 0.054\tMemory Size:100000\tCLoss:  0.00000208\tALoss: -0.010620\n",
      "Episode  500\tAverage Score: 0.043\tMemory Size:100000\tCLoss:  0.00000193\tALoss: -0.006607\n",
      "Episode  600\tAverage Score: 0.052\tMemory Size:100000\tCLoss:  0.00000169\tALoss: -0.004588\n",
      "Episode  700\tAverage Score: 0.040\tMemory Size:100000\tCLoss:  0.00000148\tALoss: -0.003645\n",
      "Episode  800\tAverage Score: 0.048\tMemory Size:100000\tCLoss:  0.00000158\tALoss: -0.003044\n",
      "Episode  900\tAverage Score: 0.046\tMemory Size:100000\tCLoss:  0.00000179\tALoss: -0.002988\n",
      "Episode 1000\tAverage Score: 0.054\tMemory Size:100000\tCLoss:  0.00000187\tALoss: -0.003126\n"
     ]
    }
   ],
   "source": [
    "from workspace_utils import active_session\n",
    "from ddpg_agent import Agent\n",
    "agent_ddpg = Agent(state_size=33, action_size=4, seed=199)\n",
    "\n",
    "with active_session():\n",
    "    ddpg_ep_rewards_list = train_ddpg(agent=agent_ddpg, memory=agent_ddpg.memory,\n",
    "                               n_episodes=1000)\n",
    "    ddpg_ep_rewards_list = np.array(ddpg_ep_rewards_list)\n",
    "    np.save('./data/ddpg_ep_rewards_list.npy', ddpg_ep_rewards_list)"
   ]
  },
  {
   "cell_type": "markdown",
   "metadata": {},
   "source": [
    "#### 6.5-2 Training: D4PG Model - Successful Trial\n",
    "\n",
    "Based on previous experience, this time, the training process is a bit different. The training process will start for every 150 timesteps and again weight-update iterates for 10 times for each training. I hope this will further stablize the training although it may take much longer time. The following result shows that D4PG agent successfully reaches the target fo average score 30, althought it takes up around 5000 episodes. That is really really slow. "
   ]
  },
  {
   "cell_type": "code",
   "execution_count": 6,
   "metadata": {},
   "outputs": [],
   "source": [
    "import torch\n",
    "from collections import deque\n",
    "\n",
    "# train the agent\n",
    "def train_d4pg(agent, memory, n_episodes=10, mode='train', \n",
    "        actor_pth='./checkpoint/d4pg_actor_checkpoint.pth',\n",
    "        critic_pth='./checkpoint/d4pg_critic_checkpoint.pth'):\n",
    "    '''Set up training's configuration and print out episodic performance measures, such as avg scores, avg loss.\n",
    "    \n",
    "    Params\n",
    "    ======\n",
    "        agent (class object)\n",
    "        memory (class attribute): agent's attribute for memory size tracking\n",
    "        mode (string): 'train' or 'test', when in test mode, the agent acts in greedy policy only\n",
    "        pth (string path): file name for the checkpoint    \n",
    "    '''\n",
    "    \n",
    "    scores = []\n",
    "    scores_window = deque(maxlen=100)  # last 100 scores\n",
    "    c_loss_window = deque(maxlen=100)\n",
    "    a_loss_window = deque(maxlen=100)\n",
    "\n",
    "    for i_episode in range(1, n_episodes+1):\n",
    "        env_info = env.reset(train_mode=True)[brain_name]  # reset the environment and activate train_mode\n",
    "        state = env_info.vector_observations            # get the current state\n",
    "        score = 0\n",
    "        agent.running_c_loss = 0\n",
    "        agent.running_a_loss = 0\n",
    "        agent.training_cnt = 0\n",
    "        # agent.reset() # reset OUNoise\n",
    "        \n",
    "        while True:\n",
    "            action = agent.act(state, mode)\n",
    "            env_info = env.step(action)[brain_name]        # send the action to the environment\n",
    "            next_state = env_info.vector_observations      # get the next state\n",
    "            reward = env_info.rewards[0]                   # get the reward\n",
    "            done = env_info.local_done[0]                  # see if episode has finished        \n",
    "\n",
    "            agent.step(state, action, reward, next_state, done)\n",
    "\n",
    "            score += reward\n",
    "            state = next_state\n",
    "            if done:\n",
    "                break\n",
    "\n",
    "        scores_window.append(score)\n",
    "        scores.append(score)\n",
    "        c_loss_window.append(agent.running_c_loss/(agent.training_cnt+0.0001)) # avoid zero\n",
    "        a_loss_window.append(agent.running_a_loss/(agent.training_cnt+0.0001)) # avoid zero\n",
    "        print('\\rEpisode {:>4}\\tAverage Score:{:>6.3f}\\tMemory Size:{:>5}\\tCLoss:{:>12.8f}\\tALoss:{:>10.6f}'.format(\n",
    "            i_episode, np.mean(scores_window), len(memory), np.mean(c_loss_window), np.mean(a_loss_window)), end=\"\")\n",
    "        if i_episode % 100 == 0:\n",
    "            print('\\rEpisode {:>4}\\tAverage Score:{:>6.3f}\\tMemory Size:{:>5}\\tCLoss:{:>12.8f}\\tALoss:{:>10.6f}'.format(\n",
    "                i_episode, np.mean(scores_window), len(memory), np.mean(c_loss_window), np.mean(a_loss_window)))\n",
    "        if np.mean(scores_window) >= 31:\n",
    "            break\n",
    "    torch.save(agent.actor_local.state_dict(), actor_pth)\n",
    "    torch.save(agent.critic_local.state_dict(), critic_pth)\n",
    "    return scores"
   ]
  },
  {
   "cell_type": "code",
   "execution_count": 7,
   "metadata": {},
   "outputs": [],
   "source": [
    "from workspace_utils import active_session\n",
    "from d4pg_agent import AgentD4PG\n",
    "agent_d4pg = AgentD4PG(state_size=33, action_size=4, seed=168)"
   ]
  },
  {
   "cell_type": "code",
   "execution_count": 8,
   "metadata": {},
   "outputs": [
    {
     "name": "stdout",
     "output_type": "stream",
     "text": [
      "Episode  100\tAverage Score: 0.648\tMemory Size:100000\tCLoss:  3.85573777\tALoss:  0.012232\n",
      "Episode  200\tAverage Score: 0.959\tMemory Size:100000\tCLoss:  3.84244329\tALoss: -0.060127\n",
      "Episode  300\tAverage Score: 0.945\tMemory Size:100000\tCLoss:  3.78579695\tALoss: -0.082603\n",
      "Episode  400\tAverage Score: 0.844\tMemory Size:100000\tCLoss:  3.72451036\tALoss: -0.096987\n",
      "Episode  500\tAverage Score: 0.896\tMemory Size:100000\tCLoss:  3.66153622\tALoss: -0.099278\n",
      "Episode  600\tAverage Score: 0.915\tMemory Size:100000\tCLoss:  3.59620967\tALoss: -0.100125\n",
      "Episode  700\tAverage Score: 0.905\tMemory Size:100000\tCLoss:  3.52996616\tALoss: -0.101018\n",
      "Episode  800\tAverage Score: 0.926\tMemory Size:100000\tCLoss:  3.46092223\tALoss: -0.100969\n",
      "Episode  900\tAverage Score: 0.846\tMemory Size:100000\tCLoss:  3.39119816\tALoss: -0.099689\n",
      "Episode 1000\tAverage Score: 0.740\tMemory Size:100000\tCLoss:  3.32183649\tALoss: -0.099618\n",
      "Episode 1100\tAverage Score: 0.982\tMemory Size:100000\tCLoss:  3.25302980\tALoss: -0.101128\n",
      "Episode 1200\tAverage Score: 1.066\tMemory Size:100000\tCLoss:  3.18574844\tALoss: -0.104903\n",
      "Episode 1300\tAverage Score: 1.078\tMemory Size:100000\tCLoss:  3.11760189\tALoss: -0.104503\n",
      "Episode 1400\tAverage Score: 1.169\tMemory Size:100000\tCLoss:  3.05181113\tALoss: -0.105633\n",
      "Episode 1500\tAverage Score: 0.932\tMemory Size:100000\tCLoss:  2.96592161\tALoss: -0.106194\n",
      "Episode 1600\tAverage Score: 1.622\tMemory Size:100000\tCLoss:  2.92351086\tALoss: -0.120160\n",
      "Episode 1700\tAverage Score: 1.476\tMemory Size:100000\tCLoss:  2.87068290\tALoss: -0.132880\n",
      "Episode 1800\tAverage Score: 2.453\tMemory Size:100000\tCLoss:  2.81103940\tALoss: -0.142748\n",
      "Episode 1900\tAverage Score: 3.207\tMemory Size:100000\tCLoss:  2.75339482\tALoss: -0.165703\n",
      "Episode 2000\tAverage Score: 2.323\tMemory Size:100000\tCLoss:  2.68848036\tALoss: -0.179792\n",
      "Episode 2100\tAverage Score: 2.738\tMemory Size:100000\tCLoss:  2.63208041\tALoss: -0.189665\n",
      "Episode 2200\tAverage Score: 4.317\tMemory Size:100000\tCLoss:  2.57833687\tALoss: -0.219255\n",
      "Episode 2300\tAverage Score: 5.341\tMemory Size:100000\tCLoss:  2.52656933\tALoss: -0.264725\n",
      "Episode 2400\tAverage Score: 4.295\tMemory Size:100000\tCLoss:  2.47140991\tALoss: -0.285977\n",
      "Episode 2500\tAverage Score: 5.932\tMemory Size:100000\tCLoss:  2.42064615\tALoss: -0.327810\n",
      "Episode 2600\tAverage Score: 5.716\tMemory Size:100000\tCLoss:  2.36960450\tALoss: -0.354742\n",
      "Episode 2700\tAverage Score: 7.182\tMemory Size:100000\tCLoss:  2.32636199\tALoss: -0.406616\n",
      "Episode 2800\tAverage Score: 7.030\tMemory Size:100000\tCLoss:  2.27986629\tALoss: -0.450794\n",
      "Episode 2900\tAverage Score: 7.796\tMemory Size:100000\tCLoss:  2.23261331\tALoss: -0.480120\n",
      "Episode 3000\tAverage Score: 8.539\tMemory Size:100000\tCLoss:  2.20012791\tALoss: -0.552954\n",
      "Episode 3100\tAverage Score:10.099\tMemory Size:100000\tCLoss:  2.16139433\tALoss: -0.597281\n",
      "Episode 3200\tAverage Score:11.928\tMemory Size:100000\tCLoss:  2.12870540\tALoss: -0.663743\n",
      "Episode 3300\tAverage Score:13.030\tMemory Size:100000\tCLoss:  2.10732326\tALoss: -0.745546\n",
      "Episode 3400\tAverage Score:11.104\tMemory Size:100000\tCLoss:  2.08796627\tALoss: -0.821244\n",
      "Episode 3500\tAverage Score:11.665\tMemory Size:100000\tCLoss:  2.06693183\tALoss: -0.859482\n",
      "Episode 3600\tAverage Score:12.745\tMemory Size:100000\tCLoss:  2.04520006\tALoss: -0.911706\n",
      "Episode 3700\tAverage Score:14.667\tMemory Size:100000\tCLoss:  2.02708814\tALoss: -0.940425\n",
      "Episode 3800\tAverage Score:14.955\tMemory Size:100000\tCLoss:  2.02515100\tALoss: -1.033097\n",
      "Episode 3900\tAverage Score:15.448\tMemory Size:100000\tCLoss:  2.02385683\tALoss: -1.141516\n",
      "Episode 4000\tAverage Score:18.724\tMemory Size:100000\tCLoss:  2.02264260\tALoss: -1.246615\n",
      "Episode 4100\tAverage Score:18.753\tMemory Size:100000\tCLoss:  2.01896640\tALoss: -1.303442\n",
      "Episode 4200\tAverage Score:18.858\tMemory Size:100000\tCLoss:  2.01417818\tALoss: -1.370950\n",
      "Episode 4300\tAverage Score:21.475\tMemory Size:100000\tCLoss:  2.01324541\tALoss: -1.472859\n",
      "Episode 4400\tAverage Score:22.163\tMemory Size:100000\tCLoss:  2.01473492\tALoss: -1.564988\n",
      "Episode 4500\tAverage Score:26.286\tMemory Size:100000\tCLoss:  2.02776404\tALoss: -1.689266\n",
      "Episode 4600\tAverage Score:28.328\tMemory Size:100000\tCLoss:  2.02997956\tALoss: -1.834831\n",
      "Episode 4700\tAverage Score:29.249\tMemory Size:100000\tCLoss:  2.02363867\tALoss: -1.959476\n",
      "Episode 4800\tAverage Score:30.102\tMemory Size:100000\tCLoss:  2.01993919\tALoss: -2.064976\n",
      "Episode 4864\tAverage Score:31.010\tMemory Size:100000\tCLoss:  2.02014795\tALoss: -2.134254"
     ]
    }
   ],
   "source": [
    "#from IPython.core.debugger import set_trace\n",
    "#set_trace()\n",
    "\n",
    "with active_session():\n",
    "    d4pg_ep_rewards_list = train_d4pg(agent=agent_d4pg, memory=agent_d4pg.memory,\n",
    "                                n_episodes=5000,\n",
    "                                mode = \"train\",\n",
    "                                actor_pth='./checkpoint/d4pg_actor_checkpoint.pth',\n",
    "                                critic_pth='./checkpoint/d4pg_critic_checkpoint.pth')\n",
    "    d4pg_ep_rewards_list = np.array(d4pg_ep_rewards_list)\n",
    "    np.save('./data/d4pg_ep_rewards_list.npy', d4pg_ep_rewards_list)"
   ]
  },
  {
   "cell_type": "markdown",
   "metadata": {},
   "source": [
    "#### 6.6 Plot the Moving Progression of Training Episodic Scores (D4PG)"
   ]
  },
  {
   "cell_type": "code",
   "execution_count": 14,
   "metadata": {
    "scrolled": true
   },
   "outputs": [
    {
     "data": {
      "image/png": "[encoded data removed]",
      "text/plain": [
       "<matplotlib.figure.Figure at 0x7f6ed4264a20>"
      ]
     },
     "metadata": {
      "needs_background": "light"
     },
     "output_type": "display_data"
    }
   ],
   "source": [
    "plot_scores(d4pg_ep_rewards_list)"
   ]
  },
  {
   "cell_type": "markdown",
   "metadata": {},
   "source": [
    "#### 6.7 See How the Agents Perform on Testing Mode"
   ]
  },
  {
   "cell_type": "code",
   "execution_count": 5,
   "metadata": {},
   "outputs": [],
   "source": [
    "from d4pg_agent import AgentD4PG\n",
    "agent_d4pg = AgentD4PG(state_size=33, action_size=4, seed=168)\n",
    "\n",
    "actor_state_dict = torch.load('./checkpoint/d4pg_actor_checkpoint.pth', map_location=lambda storage, loc:storage)\n",
    "critic_state_dict = torch.load('./checkpoint/d4pg_critic_checkpoint.pth', map_location=lambda storage, loc:storage)\n",
    "agent_d4pg.actor_local.load_state_dict(actor_state_dict)\n",
    "agent_d4pg.critic_local.load_state_dict(critic_state_dict)"
   ]
  },
  {
   "cell_type": "code",
   "execution_count": 7,
   "metadata": {},
   "outputs": [
    {
     "name": "stdout",
     "output_type": "stream",
     "text": [
      "Episode:    0\tAverage Score:     32.510\n",
      "Episode:   10\tAverage Score:     28.760\n",
      "Episode:   20\tAverage Score:     32.120\n",
      "Episode:   30\tAverage Score:     35.460\n",
      "Episode:   40\tAverage Score:     31.800\n",
      "Episode:   50\tAverage Score:     35.050\n",
      "Episode:   60\tAverage Score:     34.260\n",
      "Episode:   70\tAverage Score:     32.850\n",
      "Episode:   80\tAverage Score:     33.830\n",
      "Episode:   90\tAverage Score:     31.710\n",
      "Total score (averaged over agents) over 100 episodes:     31.811\n"
     ]
    }
   ],
   "source": [
    "past_scores = []\n",
    "for ep_i in range(100):\n",
    "    env_info = env.reset(train_mode=True)[brain_name]     # reset the environment\n",
    "    state = env_info.vector_observations[0]              # get the current state (for each agent)\n",
    "    score = 0.                      \n",
    "    while True:\n",
    "        action = agent_d4pg.act(state, mode='test')\n",
    "        env_info = env.step(action)[brain_name]\n",
    "        next_state = env_info.vector_observations[0]\n",
    "        reward = env_info.rewards[0]                         \n",
    "        done = env_info.local_done[0]                        \n",
    "        score += reward\n",
    "        state = next_state\n",
    "        if done:                                  \n",
    "            break\n",
    "    if ep_i % 10 == 0:\n",
    "        print('Episode: {:>4}\\tAverage Score: {:>10.3f}'.format(ep_i, score))\n",
    "    past_scores.append(score)\n",
    "        \n",
    "print('Total score (averaged over agents) over 100 episodes: {:>10.3f}'.format(np.sum(np.array(past_scores))/100))"
   ]
  },
  {
   "cell_type": "markdown",
   "metadata": {},
   "source": [
    "### 7. Training on Multiple Agents"
   ]
  },
  {
   "cell_type": "markdown",
   "metadata": {},
   "source": [
    "#### 7.1 Load in Environment."
   ]
  },
  {
   "cell_type": "code",
   "execution_count": 2,
   "metadata": {},
   "outputs": [
    {
     "name": "stderr",
     "output_type": "stream",
     "text": [
      "INFO:unityagents:\n",
      "'Academy' started successfully!\n",
      "Unity Academy name: Academy\n",
      "        Number of Brains: 1\n",
      "        Number of External Brains : 1\n",
      "        Lesson number : 0\n",
      "        Reset Parameters :\n",
      "\t\tgoal_speed -> 1.0\n",
      "\t\tgoal_size -> 5.0\n",
      "Unity brain name: ReacherBrain\n",
      "        Number of Visual Observations (per agent): 0\n",
      "        Vector Observation space type: continuous\n",
      "        Vector Observation space size (per agent): 33\n",
      "        Number of stacked Vector Observation: 1\n",
      "        Vector Action space type: continuous\n",
      "        Vector Action space size (per agent): 4\n",
      "        Vector Action descriptions: , , , \n"
     ]
    }
   ],
   "source": [
    "# multiple agents\n",
    "env_path = '/Users/tomlin/Documents/Github-Repository/RLND/RLND-dataset/p2-continuous-control/Reacher_multiple.app'\n",
    "env = UnityEnvironment(file_name=env_path)"
   ]
  },
  {
   "cell_type": "code",
   "execution_count": 3,
   "metadata": {},
   "outputs": [],
   "source": [
    "# get the default brain\n",
    "brain_name = env.brain_names[0]\n",
    "brain = env.brains[brain_name]"
   ]
  },
  {
   "cell_type": "code",
   "execution_count": 4,
   "metadata": {},
   "outputs": [
    {
     "name": "stdout",
     "output_type": "stream",
     "text": [
      "Number of agents: 20\n",
      "Size of each action: 4\n",
      "There are 20 agents. Each observes a state with length: 33\n",
      "The state for the first agent looks like: [ 0.00000000e+00 -4.00000000e+00  0.00000000e+00  1.00000000e+00\n",
      " -0.00000000e+00 -0.00000000e+00 -4.37113883e-08  0.00000000e+00\n",
      "  0.00000000e+00  0.00000000e+00  0.00000000e+00  0.00000000e+00\n",
      "  0.00000000e+00  0.00000000e+00 -1.00000000e+01  0.00000000e+00\n",
      "  1.00000000e+00 -0.00000000e+00 -0.00000000e+00 -4.37113883e-08\n",
      "  0.00000000e+00  0.00000000e+00  0.00000000e+00  0.00000000e+00\n",
      "  0.00000000e+00  0.00000000e+00  5.75471878e+00 -1.00000000e+00\n",
      "  5.55726624e+00  0.00000000e+00  1.00000000e+00  0.00000000e+00\n",
      " -1.68164849e-01]\n"
     ]
    }
   ],
   "source": [
    "# reset the environment\n",
    "env_info = env.reset(train_mode=True)[brain_name]\n",
    "\n",
    "# number of agents\n",
    "num_agents = len(env_info.agents)\n",
    "print('Number of agents:', num_agents)\n",
    "\n",
    "# size of each action\n",
    "action_size = brain.vector_action_space_size\n",
    "print('Size of each action:', action_size)\n",
    "\n",
    "# examine the state space \n",
    "states = env_info.vector_observations\n",
    "state_size = states.shape[1]\n",
    "print('There are {} agents. Each observes a state with length: {}'.format(states.shape[0], state_size))\n",
    "print('The state for the first agent looks like:', states[0])"
   ]
  },
  {
   "cell_type": "markdown",
   "metadata": {},
   "source": [
    "#### 7.2 Import Self-defined modules\n",
    "\n",
    "1. **A2CModel**: Neural network for A2C reinforcement learning algorithm.\n",
    "2. **collect_trajectories**: collect n-step experience transitions.\n",
    "3. **learn**: compute training loss from collected trajectories and update network's weights."
   ]
  },
  {
   "cell_type": "code",
   "execution_count": 5,
   "metadata": {},
   "outputs": [],
   "source": [
    "from a2cModel import A2CModel\n",
    "from a2cModel import collect_trajectories, learn"
   ]
  },
  {
   "cell_type": "markdown",
   "metadata": {},
   "source": [
    "#### 7.3 Model Structure\n",
    "It is a simple two fully-connected layers with 128 units, 64 units for each layer. Then it separates out to actor and critic layer, as ways implemented in the original [A3C algorithm paper](https://arxiv.org/abs/1602.01783). Both actor and critic layer uses fully-connected layer and, actions are sampled from normal distribution with $\\mu$ and $\\sigma$ are dependent on each different states. Furthermore, the action output is passed through `tanh` activation so that its action values squashed between -1 and 1, as required in this environemnt.\n",
    "\n",
    "---\n",
    "\n",
    "Besides, in order to retreive log probability of actons later, there is a tirck I use. I define function `get_action()` to return both actions_tanh and raw actions values. The raw action values are stored in the batch. Then in learning phase, it will be passed to `dist_.log_prob(a)` to get the corresponding log probability for the tanhed actions. "
   ]
  },
  {
   "cell_type": "markdown",
   "metadata": {},
   "source": [
    "#### 7.4 Specification of Loss Function (aks objective function)\n",
    "One major point worth mentioned here, I don't include `entropy` in policy loss as people do in most implementations. The reason is that I am now dealing with a multi-dimensional action space. I have no clue on how to specify the entropy for mulit-dimensional action sapce. Instead, I take reference from [ShangtongZhang's work](https://github.com/ShangtongZhang/DeepRL/blob/master/deep_rl/network/network_heads.py), in which he assumes the $\\sigma$ to be constant so that entropy will be constant in all cases. This way, I can drop off entropy from the policy loss. In addition, the value loss function is also sub-part of the policy loss. That leads to my policy loss and value loss as:\n",
    "$$\n",
    "\\begin{align}\n",
    "L_{policy} & = -\\{\\frac{1}{M}\\frac{1}{T}\\sum_{i=1}^M\\sum_{t=1}^T[log(\\pi(s_t))*(R - V(s_t))]\\} \\quad exclude \\; \\beta*H(\\pi) \\\\\n",
    "L_{value} & = \\frac{1}{M}\\frac{1}{T}\\sum_{i=1}^M\\sum_{t=1}^T(R - V(s_t))^2\n",
    "\\end{align}\n",
    "$$"
   ]
  },
  {
   "cell_type": "markdown",
   "metadata": {},
   "source": [
    "#### 7.5 Hyper-parameters\n",
    "\n",
    "- Number of learning episode: 1000\n",
    "- Number of N-Step: 10\n",
    "- Learning rate: 0.00015\n",
    "- GAMMA: 0.99"
   ]
  },
  {
   "cell_type": "markdown",
   "metadata": {},
   "source": [
    "#### 7.6 Training: A2C Model - Successful Trial\n",
    "\n",
    "In training, once agents collect one new batch of N-Step transition experience, the batch will be used to compute the loss and update the actor and critic's network parameters. Notice the last state of batch will be the initial state of next batch if any of the agents' epsiode is not done yet. Once any of the angents' episode is done, then the episode training will move on to next episode for all agents.\n",
    "\n",
    "---\n",
    "\n",
    "From the result below, you can tell A2C is very efficient. The agent learns to pick up the task and reach score 30 in less than 1000 episodes. Plus, the training experience is quite consistent and stable, you can get pretty the same result whenever you re-train the agent again."
   ]
  },
  {
   "cell_type": "markdown",
   "metadata": {},
   "source": [
    "##### Define Training Process"
   ]
  },
  {
   "cell_type": "code",
   "execution_count": 7,
   "metadata": {},
   "outputs": [
    {
     "name": "stdout",
     "output_type": "stream",
     "text": [
      "Episode  100\tEpisodic Score   4.193\tLoss    31.976604\n",
      "Episode  200\tEpisodic Score   8.986\tLoss   115.757362\n",
      "Episode  300\tEpisodic Score  13.330\tLoss   339.240479\n",
      "Episode  400\tEpisodic Score  27.043\tLoss   154.489380\n",
      "Episode  439\tEpisodic Score  34.109\tLoss   155.271667"
     ]
    }
   ],
   "source": [
    "#from IPython.core.debugger import set_trace\n",
    "#set_trace()\n",
    "\n",
    "from collections import deque\n",
    "from workspace_utils import active_session\n",
    "\n",
    "with active_session():\n",
    "    torch.backends.cudnn.deterministic = True\n",
    "    torch.manual_seed(999)\n",
    "\n",
    "    device = torch.device(\"cuda:0\" if torch.cuda.is_available() else \"cpu\")\n",
    "\n",
    "    agent_a2c = A2CModel().to(device)\n",
    "    optimizer = optim.Adam(agent_a2c.parameters(), lr=0.00015)\n",
    "\n",
    "    env_info = env.reset(train_mode=True)[brain_name] \n",
    "    states = env_info.vector_observations\n",
    "    init_states = states\n",
    "\n",
    "    n_episodes = 1\n",
    "    n_steps = 10\n",
    "    episode_end = False\n",
    "    a2c_ep_rewards_list = []\n",
    "    ep_rewards_deque = deque([0], maxlen=100) # initialize with 0\n",
    "    ep_rewards = 0\n",
    "\n",
    "    while True:\n",
    "        batch_s, batch_a, batch_v_t, accu_rewards, init_states, episode_end = collect_trajectories(\n",
    "            agent_a2c, env, brain_name, init_states, episode_end, n_steps)\n",
    "\n",
    "        loss, mus, stds = learn(batch_s, batch_a, batch_v_t, agent_a2c, optimizer)\n",
    "        ep_rewards += accu_rewards\n",
    "        print('\\rEpisode {:>4}\\tEpisodic Score {:>7.3f}\\tLoss {:>12.6f}'.format(\n",
    "            n_episodes, np.mean(ep_rewards_deque), float(loss)), end=\"\")\n",
    "\n",
    "        if episode_end == True:\n",
    "            if n_episodes % 100 == 0:\n",
    "                print('\\rEpisode {:>4}\\tEpisodic Score {:>7.3f}\\tLoss {:>12.6f}'.format(\n",
    "                    n_episodes, np.mean(ep_rewards_deque), float(loss)))\n",
    "\n",
    "            if np.mean(ep_rewards_deque) >= 34:\n",
    "                break\n",
    "            a2c_ep_rewards_list.append(ep_rewards/num_agents)\n",
    "            ep_rewards_deque.append(ep_rewards/num_agents)\n",
    "            ep_rewards = 0\n",
    "            n_episodes += 1\n",
    "            episode_end = False\n",
    "            \n",
    "    \n",
    "    # save a2c model\n",
    "    pth = './checkpoint/a2c_checkpoint.pth'\n",
    "    torch.save(agent_a2c.state_dict(), pth)\n",
    "\n",
    "    a2c_ep_rewards_list = np.array(a2c_ep_rewards_list)\n",
    "    np.save('./data/a2c_ep_rewards_list.npy', a2c_ep_rewards_list)"
   ]
  },
  {
   "cell_type": "markdown",
   "metadata": {},
   "source": [
    "#### 7.7 Plot the Moving Progression of Training Episodic Scores (A2C)"
   ]
  },
  {
   "cell_type": "code",
   "execution_count": 9,
   "metadata": {},
   "outputs": [
    {
     "data": {
      "image/png": "[encoded data removed]",
      "text/plain": [
       "<matplotlib.figure.Figure at 0x7ff53820b198>"
      ]
     },
     "metadata": {
      "needs_background": "light"
     },
     "output_type": "display_data"
    }
   ],
   "source": [
    "plot_scores(a2c_ep_rewards_list)"
   ]
  },
  {
   "cell_type": "markdown",
   "metadata": {},
   "source": [
    "#### 7.8 See How the Agents Perform on Testing Mode"
   ]
  },
  {
   "cell_type": "code",
   "execution_count": 6,
   "metadata": {},
   "outputs": [],
   "source": [
    "# load the saved model\n",
    "from a2cModel import A2CModel\n",
    "from a2cModel import collect_trajectories, learn\n",
    "agent_a2c = A2CModel()\n",
    "a2c_state_dict = torch.load('./checkpoint/a2c_checkpoint.pth', map_location=lambda storage, loc:storage)\n",
    "agent_a2c.load_state_dict(a2c_state_dict)"
   ]
  },
  {
   "cell_type": "code",
   "execution_count": 7,
   "metadata": {},
   "outputs": [
    {
     "name": "stdout",
     "output_type": "stream",
     "text": [
      "Episode:    0\tAverage Score:     37.065\n",
      "Episode:   10\tAverage Score:     37.349\n",
      "Episode:   20\tAverage Score:     37.828\n",
      "Episode:   30\tAverage Score:     36.713\n",
      "Episode:   40\tAverage Score:     36.816\n",
      "Episode:   50\tAverage Score:     37.445\n",
      "Episode:   60\tAverage Score:     37.396\n",
      "Episode:   70\tAverage Score:     37.007\n",
      "Episode:   80\tAverage Score:     37.386\n",
      "Episode:   90\tAverage Score:     37.529\n",
      "Total score (averaged over agents) over 100 episodes:     37.189\n"
     ]
    }
   ],
   "source": [
    "past_scores = []\n",
    "for ep_i in range(100):\n",
    "    env_info = env.reset(train_mode=True)[brain_name]     # reset the environment\n",
    "    states = env_info.vector_observations                 # get the current state (for each agent)\n",
    "    scores = np.zeros(num_agents)                      \n",
    "    while True:\n",
    "        agent_a2c.eval()\n",
    "        with torch.no_grad():\n",
    "            states = torch.from_numpy(states).float()\n",
    "            actions_tanh, actions = agent_a2c.get_action(states)\n",
    "        env_info = env.step(actions_tanh.numpy())[brain_name]\n",
    "        next_states = env_info.vector_observations\n",
    "        rewards = env_info.rewards                         \n",
    "        dones = env_info.local_done                        \n",
    "        scores += np.array(env_info.rewards)\n",
    "        states = next_states                               \n",
    "        if np.any(dones):                                  \n",
    "            break\n",
    "    if ep_i % 10 == 0:\n",
    "        print('Episode: {:>4}\\tAverage Score: {:>10.3f}'.format(ep_i, np.mean(scores)))\n",
    "    past_scores.append(np.mean(scores))\n",
    "        \n",
    "print('Total score (averaged over agents) over 100 episodes: {:>10.3f}'.format(np.sum(np.array(past_scores))/100))"
   ]
  },
  {
   "cell_type": "markdown",
   "metadata": {},
   "source": [
    "### 8. Visualization of Training Progression for All Models"
   ]
  },
  {
   "cell_type": "code",
   "execution_count": 25,
   "metadata": {},
   "outputs": [
    {
     "data": {
      "image/png": "[encoded data removed]",
      "text/plain": [
       "<Figure size 720x360 with 1 Axes>"
      ]
     },
     "metadata": {},
     "output_type": "display_data"
    }
   ],
   "source": [
    "import matplotlib.pyplot as plt\n",
    "import pandas as pd\n",
    "%matplotlib inline\n",
    "\n",
    "ddpg_ep_rewards_list = np.load('./data/ddpg_ep_rewards_list.npy')\n",
    "a2c_ep_rewards_list = np.load('./data/a2c_ep_rewards_list.npy')\n",
    "d4pg_ep_rewards_list = np.load('./data/d4pg_ep_rewards_list.npy')\n",
    "\n",
    "ddpg_ep_rewards_list_rolling_mean = pd.Series(ddpg_ep_rewards_list).rolling(100).mean()\n",
    "a2c_ep_rewards_list_rolling_mean = pd.Series(a2c_ep_rewards_list).rolling(100).mean()\n",
    "d4pg_ep_rewards_list_rolling_mean = pd.Series(d4pg_ep_rewards_list).rolling(100).mean()\n",
    "\n",
    "# plot all rolling mean\n",
    "fig = plt.figure(figsize=(10,5))\n",
    "plt.title('Compare Rolling Mean of Different Algorithm')\n",
    "plt.plot(np.arange(len(a2c_ep_rewards_list_rolling_mean)), a2c_ep_rewards_list_rolling_mean, '-g', label='a2c')\n",
    "plt.plot(np.arange(len(d4pg_ep_rewards_list_rolling_mean)), d4pg_ep_rewards_list_rolling_mean, '-y', label='d4pg')\n",
    "plt.plot(np.arange(len(ddpg_ep_rewards_list_rolling_mean)), ddpg_ep_rewards_list_rolling_mean, '-r', label='ddpg')\n",
    "plt.ylabel('rolling Mean')\n",
    "plt.xlabel('episode #')\n",
    "plt.legend()\n",
    "plt.show()"
   ]
  },
  {
   "cell_type": "markdown",
   "metadata": {},
   "source": [
    "### 9. Conclusion\n",
    "\n",
    "From these trials, the A2C model has the best performance and efficiency, at the same time the re-trial result is very consistent, but given the fact it is a multi-agent training and uses 10 steps trajectory, it shouldn't be too surprising for the outcome. The D4PG in this case is a single agent training, and I only use 1 step trajectory, but it still gives kind of a satisfactory outcome, but the re-trial is not so consistent, you may find your agent stuck in some local optimum in some trials, and the learning is not so efficient either. The last is DDPG, well, I guess I won't use that algorithm for continuous action task ever again."
   ]
  },
  {
   "cell_type": "markdown",
   "metadata": {},
   "source": [
    "### 10. Further Improvement\n",
    "\n",
    "Possible attempts may include to re-write the code using Python's multiprocessing module, that will enable the algorithm to learn in parallel environment. This is the ongoing trend in reinforcement learning. And I might try to see if I can re-code D4PG to take multiple steps trajectory for learning in the future."
   ]
  },
  {
   "cell_type": "markdown",
   "metadata": {},
   "source": [
    "### Reference:\n",
    "1. [latex cheet sheet](https://wch.github.io/latexsheet/)\n",
    "2. [latex alignment](https://stackoverflow.com/questions/28353127/how-to-change-alignment-of-displayed-equations-in-ipython-notebook)"
   ]
  },
  {
   "cell_type": "code",
   "execution_count": null,
   "metadata": {},
   "outputs": [],
   "source": []
  }
 ],
 "metadata": {
  "kernelspec": {
   "display_name": "Python 3",
   "language": "python",
   "name": "python3"
  },
  "language_info": {
   "codemirror_mode": {
    "name": "ipython",
    "version": 3
   },
   "file_extension": ".py",
   "mimetype": "text/x-python",
   "name": "python",
   "nbconvert_exporter": "python",
   "pygments_lexer": "ipython3",
   "version": "3.6.5"
  }
 },
 "nbformat": 4,
 "nbformat_minor": 2
}
